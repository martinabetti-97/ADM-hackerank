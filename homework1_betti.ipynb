{
 "cells": [
  {
   "cell_type": "markdown",
   "metadata": {},
   "source": [
    "# Homework 1\n",
    "## Martina Betti\n",
    "## Matricola 1799160\n",
    "----------------------------------------------"
   ]
  },
  {
   "cell_type": "markdown",
   "metadata": {},
   "source": [
    "### Libraries\n",
    "To avoid code repetitions here I listed all the libraries used in here"
   ]
  },
  {
   "cell_type": "code",
   "execution_count": 1,
   "metadata": {},
   "outputs": [],
   "source": [
    "import math\n",
    "import os\n",
    "import random\n",
    "import re\n",
    "import sys\n",
    "import textwrap\n",
    "import calendar\n",
    "import datetime\n",
    "import operator\n",
    "import collections\n",
    "import email.utils\n",
    "from datetime import datetime\n",
    "from html.parser import HTMLParser\n",
    "import xml.etree.ElementTree as etree"
   ]
  },
  {
   "cell_type": "markdown",
   "metadata": {},
   "source": [
    "--------------------------------------"
   ]
  },
  {
   "cell_type": "markdown",
   "metadata": {},
   "source": [
    "# Problem 1"
   ]
  },
  {
   "cell_type": "markdown",
   "metadata": {},
   "source": [
    "## Introduction"
   ]
  },
  {
   "cell_type": "markdown",
   "metadata": {},
   "source": [
    "#### Say \"Hello, World!\" With Python"
   ]
  },
  {
   "cell_type": "code",
   "execution_count": null,
   "metadata": {},
   "outputs": [],
   "source": [
    "if __name__ == '__main__':\n",
    "    print (\"Hello, World!\")"
   ]
  },
  {
   "cell_type": "markdown",
   "metadata": {},
   "source": [
    "#### Python If-Else"
   ]
  },
  {
   "cell_type": "code",
   "execution_count": null,
   "metadata": {},
   "outputs": [],
   "source": [
    "if __name__ == '__main__':\n",
    "    n = int(input().strip())\n",
    "\n",
    "if n%2 != 0:\n",
    "    print('Weird')\n",
    "elif n%1 == 0:\n",
    "    if n>=2 and n<=5 or n>20 :\n",
    "        print('Not Weird')\n",
    "    if n>=6 and n<=20 :\n",
    "        print('Weird')"
   ]
  },
  {
   "cell_type": "markdown",
   "metadata": {},
   "source": [
    "#### Arithmetic Operators"
   ]
  },
  {
   "cell_type": "code",
   "execution_count": null,
   "metadata": {},
   "outputs": [],
   "source": [
    "if __name__ == '__main__':\n",
    "    a = int(input())\n",
    "    b = int(input())"
   ]
  },
  {
   "cell_type": "markdown",
   "metadata": {},
   "source": [
    "#### Python: Division"
   ]
  },
  {
   "cell_type": "code",
   "execution_count": null,
   "metadata": {},
   "outputs": [],
   "source": [
    "if __name__ == '__main__':\n",
    "    a = int(input())\n",
    "    b = int(input())\n",
    "\n",
    "print(a//b)\n",
    "print(a/b)"
   ]
  },
  {
   "cell_type": "markdown",
   "metadata": {},
   "source": [
    "#### Loops"
   ]
  },
  {
   "cell_type": "code",
   "execution_count": null,
   "metadata": {},
   "outputs": [],
   "source": [
    "if __ndef minion_game(string):\n",
    "    vowel =['A','E','I','O','U']\n",
    "    S=0\n",
    "    K=0\n",
    "    for i in range(len(string)):\n",
    "        if string[i] in vowel:\n",
    "            K+= len(string)-i\n",
    "        else:\n",
    "            S+=len(string)-i\n",
    "    if S>K:\n",
    "        print(\"Stuart\"+\" \"+ \"%d\" % S)\n",
    "    elif K>S:\n",
    "        print(\"Kevin\"+\" \"+'%d' % K)\n",
    "    else:\n",
    "        print(\"Draw\")\n",
    "ame__ == '__main__':\n",
    "    n = int(input())\n",
    "\n",
    "for i in range(n):\n",
    "    print(i**2)"
   ]
  },
  {
   "cell_type": "markdown",
   "metadata": {},
   "source": [
    "#### Write a function"
   ]
  },
  {
   "cell_type": "code",
   "execution_count": null,
   "metadata": {},
   "outputs": [],
   "source": [
    "def is_leap(year):\n",
    "    leap = False\n",
    "    if year%400 == 0 or year%4 == 0 and year%100 != 0:\n",
    "        leap=True\n",
    "    return leap"
   ]
  },
  {
   "cell_type": "markdown",
   "metadata": {},
   "source": [
    "#### Print function"
   ]
  },
  {
   "cell_type": "code",
   "execution_count": null,
   "metadata": {},
   "outputs": [],
   "source": [
    "if __name__ == '__main__':\n",
    "    n = int(input())\n",
    "    for i in range(1,n+1): \n",
    "        print(i, end=\"\")   "
   ]
  },
  {
   "cell_type": "markdown",
   "metadata": {},
   "source": [
    "------------------------------"
   ]
  },
  {
   "cell_type": "markdown",
   "metadata": {},
   "source": [
    "## Data type"
   ]
  },
  {
   "cell_type": "markdown",
   "metadata": {},
   "source": [
    "#### List comprehensions"
   ]
  },
  {
   "cell_type": "code",
   "execution_count": null,
   "metadata": {},
   "outputs": [],
   "source": [
    "if __name__ == '__main__':\n",
    "    x = int(input())\n",
    "    y = int(input())\n",
    "    z = int(input())\n",
    "    n = int(input())\n",
    "L=[]\n",
    "for ex in range(x+1):\n",
    "    l1=[ex]\n",
    "    for ey in range(y+1):\n",
    "        l2=l1+[ey]\n",
    "        for ez in range(z+1):\n",
    "            l3=l2+[ez]\n",
    "            if sum(l3) != n:\n",
    "                L.append(l3)\n",
    "\n",
    "print(L)"
   ]
  },
  {
   "cell_type": "markdown",
   "metadata": {},
   "source": [
    "#### Find the runner-up score!"
   ]
  },
  {
   "cell_type": "code",
   "execution_count": null,
   "metadata": {},
   "outputs": [],
   "source": [
    "if __name__ == '__main__':\n",
    "    n = int(input())\n",
    "    arr = map(int, input().split())\n",
    "    print(sorted(list(dict.fromkeys(list(arr))))[-2])"
   ]
  },
  {
   "cell_type": "markdown",
   "metadata": {},
   "source": [
    "#### Nested lists"
   ]
  },
  {
   "cell_type": "code",
   "execution_count": null,
   "metadata": {},
   "outputs": [],
   "source": [
    "if __name__ == '__main__':\n",
    "    d= {}\n",
    "    for _ in range(int(input())):\n",
    "        name = input()\n",
    "        score = float(input())\n",
    "        if score in d.keys():\n",
    "            d[score]+=[name]\n",
    "        else:\n",
    "            d[score]=[name]\n",
    "sl=sorted(d.keys())[1]\n",
    "names=sorted(d[sl])[:2]\n",
    "print(*names, sep = \"\\n\")"
   ]
  },
  {
   "cell_type": "markdown",
   "metadata": {},
   "source": [
    "#### Finding the percentage"
   ]
  },
  {
   "cell_type": "code",
   "execution_count": null,
   "metadata": {},
   "outputs": [],
   "source": [
    "if __name__ == '__main__':\n",
    "    n = int(input())\n",
    "    student_marks = {}\n",
    "    for _ in range(n):\n",
    "        name, *line = input().split()\n",
    "        scores = list(map(float, line))\n",
    "        student_marks[name] = scores\n",
    "    query_name = input()\n",
    "print('%.2f'%(sum(student_marks[query_name])/len(student_marks[query_name])))"
   ]
  },
  {
   "cell_type": "markdown",
   "metadata": {},
   "source": [
    "#### Lists"
   ]
  },
  {
   "cell_type": "code",
   "execution_count": null,
   "metadata": {},
   "outputs": [],
   "source": [
    "if __name__ == '__main__':\n",
    "    N = int(input())\n",
    "    l = []\n",
    "    for _ in range(N):\n",
    "        raw = input().split()\n",
    "        cmd = raw[0]+\"(\"+ \",\".join(raw[1:])+\")\"\n",
    "        if raw[0] != \"print\":\n",
    "            eval(\"l.\"+cmd)\n",
    "        else:\n",
    "            print (l)"
   ]
  },
  {
   "cell_type": "markdown",
   "metadata": {},
   "source": [
    "#### Tuples"
   ]
  },
  {
   "cell_type": "code",
   "execution_count": null,
   "metadata": {},
   "outputs": [],
   "source": [
    "if __name__ == '__main__':\n",
    "    n = int(input())\n",
    "    integer_list = map(int, input().split())\n",
    "    t=tuple(i for i in integer_list)\n",
    "    print(hash(t))"
   ]
  },
  {
   "cell_type": "markdown",
   "metadata": {},
   "source": [
    "----------------------------"
   ]
  },
  {
   "cell_type": "markdown",
   "metadata": {},
   "source": [
    "## Strings"
   ]
  },
  {
   "cell_type": "markdown",
   "metadata": {},
   "source": [
    "#### The minion game"
   ]
  },
  {
   "cell_type": "code",
   "execution_count": null,
   "metadata": {},
   "outputs": [],
   "source": [
    "import itertools\n",
    "def minion_game(string):\n",
    "    kevin=0\n",
    "    stuart=0\n",
    "    tot=len(string)*(len(string)+1)/2\n",
    "    for i in range(len(string)):\n",
    "        if str(list(string)[i]) in 'AEIOUaeiou':\n",
    "            kevin+=len(string)-i #score assigned to substring diminuish with each loop (shorter string)\n",
    "        else:\n",
    "            stuart+=len(string)-i\n",
    "    if stuart>kevin:\n",
    "        print (\"Stuart\",stuart)\n",
    "    elif kevin>stuart:\n",
    "        print (\"Kevin\",kevin)\n",
    "    else:\n",
    "        print (\"Draw\")\n",
    "\n",
    "if __name__ == '__main__':\n",
    "    s = input()\n",
    "    minion_game(s)"
   ]
  },
  {
   "cell_type": "markdown",
   "metadata": {},
   "source": [
    "#### sWAP cASE"
   ]
  },
  {
   "cell_type": "code",
   "execution_count": null,
   "metadata": {},
   "outputs": [],
   "source": [
    "def swap_case(s):\n",
    "    if len(s)<= 1000 and len(s)>0:\n",
    "        s_swap=s.swapcase()\n",
    "    return s_swap\n"
   ]
  },
  {
   "cell_type": "markdown",
   "metadata": {},
   "source": [
    "#### String Split and join"
   ]
  },
  {
   "cell_type": "code",
   "execution_count": null,
   "metadata": {},
   "outputs": [],
   "source": [
    "def split_and_join(line):\n",
    "    line_split=line.split(\" \")\n",
    "    line_upcase=\"-\".join(line_split)\n",
    "    return line_upcase"
   ]
  },
  {
   "cell_type": "markdown",
   "metadata": {},
   "source": [
    "#### Whats's your name?"
   ]
  },
  {
   "cell_type": "code",
   "execution_count": null,
   "metadata": {},
   "outputs": [],
   "source": [
    "def print_full_name(a, b):\n",
    "    if type(a) == str and len(a)<10:\n",
    "        name=a\n",
    "    if type(b) == str and len(b)<10:\n",
    "        surname=b\n",
    "    print (\"Hello \"+name+\" \"+surname+\"! You just delved into python.\")\n"
   ]
  },
  {
   "cell_type": "markdown",
   "metadata": {},
   "source": [
    "#### Mutations"
   ]
  },
  {
   "cell_type": "code",
   "execution_count": null,
   "metadata": {},
   "outputs": [],
   "source": [
    "def mutate_string(string, position, character):\n",
    "    return(string[:position]+character+string[position+1:])\n",
    "if __name__ == '__main__':\n",
    "    s = input()\n",
    "    i, c = input().split()\n",
    "    s_new = mutate_string(s, int(i), c)\n",
    "    print(s_new)"
   ]
  },
  {
   "cell_type": "markdown",
   "metadata": {},
   "source": [
    "#### Find a string"
   ]
  },
  {
   "cell_type": "code",
   "execution_count": null,
   "metadata": {},
   "outputs": [],
   "source": [
    "def count_substring(string, sub_string):\n",
    "    c=0\n",
    "    for i in range(len(string)):\n",
    "        if sub_string == string[i:len(sub_string)+i]:\n",
    "            c+=1\n",
    "    return c\n",
    "\n",
    "\n",
    "if __name__ == '__main__':\n",
    "    string = input().strip()\n",
    "    sub_string = input().strip()\n",
    "    \n",
    "    count = count_substring(string, sub_string)\n",
    "    print(count)\n",
    "    "
   ]
  },
  {
   "cell_type": "markdown",
   "metadata": {},
   "source": [
    "#### String Validators"
   ]
  },
  {
   "cell_type": "code",
   "execution_count": null,
   "metadata": {},
   "outputs": [],
   "source": [
    "if __name__ == '__main__':\n",
    "    s = input()\n",
    "    print (any(c.isalnum() for c in s))\n",
    "    print (any(c.isalpha() for c in s))\n",
    "    print (any(c.isdigit() for c in s))\n",
    "    print (any(c.islower() for c in s))\n",
    "    print (any(c.isupper() for c in s))"
   ]
  },
  {
   "cell_type": "markdown",
   "metadata": {},
   "source": [
    "#### Text alignment"
   ]
  },
  {
   "cell_type": "code",
   "execution_count": null,
   "metadata": {},
   "outputs": [],
   "source": [
    "thickness = int(input()) #This must be an odd number\n",
    "c = 'H'\n",
    "\n",
    "#Top Cone\n",
    "for i in range(thickness):\n",
    "    print((c*i).rjust(thickness-1)+c+(c*i).ljust(thickness-1))\n",
    "\n",
    "#Top Pillars\n",
    "for i in range(thickness+1):\n",
    "    print((c*thickness).center(thickness*2)+(c*thickness).center(thickness*6))\n",
    "\n",
    "#Middle Belt\n",
    "for i in range((thickness+1)//2):\n",
    "    print((c*thickness*5).center(thickness*6))    \n",
    "\n",
    "#Bottom Pillars\n",
    "for i in range(thickness+1):\n",
    "    print((c*thickness).center(thickness*2)+(c*thickness).center(thickness*6))    \n",
    "\n",
    "#Bottom Cone\n",
    "for i in range(thickness):\n",
    "    print(((c*(thickness-i-1)).rjust(thickness)+c+(c*(thickness-i-1)).ljust(thickness)).rjust(thickness*6))"
   ]
  },
  {
   "cell_type": "markdown",
   "metadata": {},
   "source": [
    "#### Text Wrap"
   ]
  },
  {
   "cell_type": "code",
   "execution_count": null,
   "metadata": {},
   "outputs": [],
   "source": [
    "def wrap(string, max_width):\n",
    "    l=[]\n",
    "    for i in range(0,len(string),max_width):\n",
    "        l.append(string[i:i+max_width])\n",
    "    return '\\n'.join(l)\n",
    "\n",
    "if __name__ == '__main__':\n",
    "    string, max_width = input(), int(input())\n",
    "    result = wrap(string, max_width)\n",
    "    print(result)"
   ]
  },
  {
   "cell_type": "markdown",
   "metadata": {},
   "source": [
    "#### Designer Door Mat"
   ]
  },
  {
   "cell_type": "code",
   "execution_count": null,
   "metadata": {},
   "outputs": [],
   "source": [
    "N, M = map(int,input().split())\n",
    "pattern1='.|.'\n",
    "pattern2='-'\n",
    "up=[(i * pattern1).center(M, pattern2) for i in range(1,N,2)]\n",
    "down=[(i * pattern1).center(M, pattern2) for i in reversed(range(1,N,2))]\n",
    "print(*up,sep=\"\\n\")\n",
    "print(\"WELCOME\".center(M,pattern2))\n",
    "print(*down,sep= \"\\n\")"
   ]
  },
  {
   "cell_type": "markdown",
   "metadata": {},
   "source": [
    "#### String Formatting"
   ]
  },
  {
   "cell_type": "code",
   "execution_count": null,
   "metadata": {},
   "outputs": [],
   "source": [
    "def print_formatted(n):\n",
    "    width=len(str(bin(n)).replace('0b',''))    \n",
    "    for i in range(1, n+1):\n",
    "        decimal = str(i).rjust(width, ' ')\n",
    "        octal = str(oct(i)[2:]).rjust(width, ' ')\n",
    "        hexad = str(hex(i)[2:]).upper().rjust(width, ' ')\n",
    "        binary = str(bin(i)[2:]).rjust(width, ' ')\n",
    "\n",
    "        print(decimal, octal, hexad, binary)\n",
    "\n",
    "\n",
    "if __name__ == '__main__':\n",
    "    n = int(input())\n",
    "    print_formatted(n)"
   ]
  },
  {
   "cell_type": "markdown",
   "metadata": {},
   "source": [
    "#### Alphabet Rangoli"
   ]
  },
  {
   "cell_type": "code",
   "execution_count": null,
   "metadata": {},
   "outputs": [],
   "source": [
    "def print_rangoli(n):\n",
    "    alpha='abcdefghijklmnopqrstuvwxyz'\n",
    "    line=[]\n",
    "    for i in range(n):\n",
    "        s = \"-\".join(alpha[i:n]) #subset of char to be used\n",
    "        line.append((s[::-1]+s[1:]).center(4*n-3, \"-\")) #reversed string + normal\n",
    "    print('\\n'.join(line[:0:-1]+line))\n",
    "        \n",
    "\n",
    "if __name__ == '__main__':\n",
    "    n = int(input())\n",
    "    print_rangoli(n)"
   ]
  },
  {
   "cell_type": "markdown",
   "metadata": {},
   "source": [
    "#### Capitalize!"
   ]
  },
  {
   "cell_type": "code",
   "execution_count": null,
   "metadata": {},
   "outputs": [],
   "source": [
    "def solve(s):\n",
    "    l=s.split(' ')\n",
    "    return ' '.join(list(map(str.capitalize,l)))\n",
    "if __name__ == '__main__':\n",
    "    fptr = open(os.environ['OUTPUT_PATH'], 'w')\n",
    "\n",
    "    s = input()\n",
    "\n",
    "    result = solve(s)\n",
    "\n",
    "    fptr.write(result + '\\n')\n",
    "\n",
    "    fptr.close()"
   ]
  },
  {
   "cell_type": "markdown",
   "metadata": {},
   "source": [
    "#### Merge the Tools!"
   ]
  },
  {
   "cell_type": "code",
   "execution_count": null,
   "metadata": {},
   "outputs": [],
   "source": [
    "def merge_the_tools(string, k):\n",
    "    for i in range(0,len(string),k):\n",
    "        s=string[i:i+k]\n",
    "        print(''.join(list(dict.fromkeys(s)))) #set changed oreder\n",
    "        \n",
    "if __name__ == '__main__':\n",
    "    string, k = input(), int(input())\n",
    "    merge_the_tools(string, k)"
   ]
  },
  {
   "cell_type": "markdown",
   "metadata": {},
   "source": [
    "-------------------------------------------"
   ]
  },
  {
   "cell_type": "markdown",
   "metadata": {},
   "source": [
    "## Sets"
   ]
  },
  {
   "cell_type": "markdown",
   "metadata": {},
   "source": [
    "#### No idea!"
   ]
  },
  {
   "cell_type": "code",
   "execution_count": null,
   "metadata": {},
   "outputs": [],
   "source": [
    "n,m= list(map(int,input().split()))\n",
    "arr= list(map(int,input().split()))\n",
    "A= set(list(map(int,input().split())))\n",
    "B= set(list(map(int,input().split())))\n",
    "happiness=0\n",
    "for e in arr:\n",
    "    if e in A and e not in B:\n",
    "        happiness+=1\n",
    "    if e in B and e not in A:\n",
    "        happiness-=1\n",
    "print(happiness)"
   ]
  },
  {
   "cell_type": "markdown",
   "metadata": {},
   "source": [
    "#### Introduction to sets"
   ]
  },
  {
   "cell_type": "code",
   "execution_count": null,
   "metadata": {},
   "outputs": [],
   "source": [
    "def average(array):\n",
    "    if len(array)>0 and len(array)<=100:\n",
    "        return sum(set(array)) / len(set(array))"
   ]
  },
  {
   "cell_type": "markdown",
   "metadata": {},
   "source": [
    "#### Symmetric Difference"
   ]
  },
  {
   "cell_type": "code",
   "execution_count": null,
   "metadata": {},
   "outputs": [],
   "source": [
    "n_A=int(input())\n",
    "setA=set(input().split(' '))\n",
    "n_B=int(input())\n",
    "setB=set(input().split(' '))\n",
    "print(*sorted(list(map(int,list(setA.symmetric_difference(setB))))),sep='\\n')"
   ]
  },
  {
   "cell_type": "markdown",
   "metadata": {},
   "source": [
    "#### Set.add()"
   ]
  },
  {
   "cell_type": "code",
   "execution_count": null,
   "metadata": {},
   "outputs": [],
   "source": [
    "n=int(input())\n",
    "s=set()\n",
    "for i in range(n):\n",
    "    s.add(input())\n",
    "print(len(s))"
   ]
  },
  {
   "cell_type": "markdown",
   "metadata": {},
   "source": [
    "#### Set.discard(), .remove() & .pop()"
   ]
  },
  {
   "cell_type": "code",
   "execution_count": null,
   "metadata": {},
   "outputs": [],
   "source": [
    "n = int(input())\n",
    "s = set(map(int, input().split()))\n",
    "operations= int(input())\n",
    "for i in range(operations):\n",
    "    func= input().split(' ')\n",
    "    if func[0] == \"remove\" and int(func[1]) in s:\n",
    "        s.remove(int(func[1]))\n",
    "    elif func[0] == \"pop\":\n",
    "        s.pop()\n",
    "    elif func[0] == \"discard\":\n",
    "        s.discard(int(func[1]))\n",
    "print(sum(list(s)))"
   ]
  },
  {
   "cell_type": "markdown",
   "metadata": {},
   "source": [
    "#### Set.union() "
   ]
  },
  {
   "cell_type": "code",
   "execution_count": null,
   "metadata": {},
   "outputs": [],
   "source": [
    "nf=input()\n",
    "rnf=set(input().split())\n",
    "ne=input()\n",
    "rne=set(input().split())\n",
    "print(len(rnf.union(rne)))"
   ]
  },
  {
   "cell_type": "markdown",
   "metadata": {},
   "source": [
    "#### Set.intersection()"
   ]
  },
  {
   "cell_type": "code",
   "execution_count": null,
   "metadata": {},
   "outputs": [],
   "source": [
    "nf=input()\n",
    "rnf=set(input().split())\n",
    "ne=input()\n",
    "rne=set(input().split())\n",
    "print(len(rnf.intersection(rne)))"
   ]
  },
  {
   "cell_type": "markdown",
   "metadata": {},
   "source": [
    "#### Set.difference()"
   ]
  },
  {
   "cell_type": "code",
   "execution_count": null,
   "metadata": {},
   "outputs": [],
   "source": [
    "nf=input()\n",
    "rnf=set(input().split())\n",
    "ne=input()\n",
    "rne=set(input().split())\n",
    "print(len(rnf.difference(rne)))"
   ]
  },
  {
   "cell_type": "markdown",
   "metadata": {},
   "source": [
    "#### Set.symmetric_difference()"
   ]
  },
  {
   "cell_type": "code",
   "execution_count": null,
   "metadata": {},
   "outputs": [],
   "source": [
    "nf=input()\n",
    "rnf=set(input().split())\n",
    "ne=input()\n",
    "rne=set(input().split())\n",
    "print(len(rnf.symmetric_difference(rne)))\n"
   ]
  },
  {
   "cell_type": "markdown",
   "metadata": {},
   "source": [
    "#### Set Mutations"
   ]
  },
  {
   "cell_type": "code",
   "execution_count": null,
   "metadata": {},
   "outputs": [],
   "source": [
    "n_A=int(input())\n",
    "setA=set(input().split(' '))\n",
    "n_s=int(input())\n",
    "for i in range(n_s):\n",
    "    name,n=input().split(' ')\n",
    "    setB=set(input().split(' '))\n",
    "    if name=='intersection_update':\n",
    "        setA = setA.intersection(setB)\n",
    "    elif name=='update':\n",
    "        setA = setA.union(setB)\n",
    "    elif name=='symmetric_difference_update':\n",
    "        setA= setA.symmetric_difference(setB)\n",
    "    elif name=='difference_update':\n",
    "        setA= setA.difference(setB)\n",
    "print(sum(list(map(int,list(setA)))))\n"
   ]
  },
  {
   "cell_type": "markdown",
   "metadata": {},
   "source": [
    "#### The Captain's Room"
   ]
  },
  {
   "cell_type": "code",
   "execution_count": null,
   "metadata": {},
   "outputs": [],
   "source": [
    "nrooms= int(input())\n",
    "people= list(map(int,input().split()))\n",
    "unique= set(people)\n",
    "for e in unique:\n",
    "    people.remove(e)\n",
    "new_unique= set(people)\n",
    "print(list(unique.difference(new_unique)))"
   ]
  },
  {
   "cell_type": "markdown",
   "metadata": {},
   "source": [
    "#### Check subset"
   ]
  },
  {
   "cell_type": "code",
   "execution_count": null,
   "metadata": {},
   "outputs": [],
   "source": [
    "test=int(input())\n",
    "for t in range(test):\n",
    "    A_n=input()\n",
    "    A=set(input().split())\n",
    "    B_n=input()\n",
    "    B=set(input().split())\n",
    "    if len(A.difference(B)) == 0:\n",
    "        print (True)\n",
    "    else:\n",
    "        print (False)"
   ]
  },
  {
   "cell_type": "markdown",
   "metadata": {},
   "source": [
    "#### Check strict superset"
   ]
  },
  {
   "cell_type": "code",
   "execution_count": null,
   "metadata": {},
   "outputs": [],
   "source": [
    "A=set(input().split())\n",
    "test=int(input())\n",
    "sol=False\n",
    "for i in range(test):    \n",
    "    if len((set(input().split())).difference(A)) == 0:\n",
    "        sol=True\n",
    "    else:\n",
    "        sol=False\n",
    "        break"
   ]
  },
  {
   "cell_type": "markdown",
   "metadata": {},
   "source": [
    "-----------------------------"
   ]
  },
  {
   "cell_type": "markdown",
   "metadata": {},
   "source": [
    "## Collections"
   ]
  },
  {
   "cell_type": "markdown",
   "metadata": {},
   "source": [
    "#### DefaultDict Tutorial"
   ]
  },
  {
   "cell_type": "code",
   "execution_count": null,
   "metadata": {},
   "outputs": [],
   "source": [
    "from collections import defaultdict\n",
    "n,m= list(map(int,input().split()))\n",
    "A = defaultdict(list)\n",
    "B = defaultdict(list)\n",
    "for i in range(1,int(n)+1):\n",
    "    A[str(input())].append(i)\n",
    "for i in range(int(m)):\n",
    "    e= str(input())\n",
    "    if e in A.keys():\n",
    "        print(*A[e])\n",
    "    else: \n",
    "        print(-1)"
   ]
  },
  {
   "cell_type": "markdown",
   "metadata": {},
   "source": [
    "#### collections.counter()"
   ]
  },
  {
   "cell_type": "code",
   "execution_count": null,
   "metadata": {},
   "outputs": [],
   "source": [
    "from collections import Counter\n",
    "\n",
    "N = int(input())\n",
    "sizes = Counter(map(int, input().split()))\n",
    "incomes = 0\n",
    "for _ in range(int(input())):\n",
    "    size, price = map(int, input().split())\n",
    "    if sizes[size]:\n",
    "        incomes += price\n",
    "        sizes[size] -= 1\n",
    "print(incomes)\n"
   ]
  },
  {
   "cell_type": "markdown",
   "metadata": {},
   "source": [
    "#### collections.namedtuple()"
   ]
  },
  {
   "cell_type": "code",
   "execution_count": null,
   "metadata": {},
   "outputs": [],
   "source": [
    "from collections import namedtuple\n",
    "n, fields = int(input()), namedtuple('Student', input().split())\n",
    "students = [fields(*input().split()) for i in range(n)]\n",
    "print(str(round((sum([int(students[i].MARKS) for i in range(n)])/n), 2)))"
   ]
  },
  {
   "cell_type": "markdown",
   "metadata": {},
   "source": [
    "#### collection.orderdDict()"
   ]
  },
  {
   "cell_type": "code",
   "execution_count": null,
   "metadata": {},
   "outputs": [],
   "source": [
    "n= int(input())\n",
    "d={}\n",
    "for x in range(n):\n",
    "    item,_,price=input().rpartition(' ')\n",
    "    if item in d.keys():\n",
    "        d[item]+=int(price)\n",
    "    else:\n",
    "        d[item]=int(price)\n",
    "for item, price in d.items():\n",
    "    print(item, price)\n",
    "\n",
    "print(sol)"
   ]
  },
  {
   "cell_type": "markdown",
   "metadata": {},
   "source": [
    "#### Word Order"
   ]
  },
  {
   "cell_type": "code",
   "execution_count": null,
   "metadata": {},
   "outputs": [],
   "source": [
    "from collections import defaultdict\n",
    "from collections import Counter\n",
    "n=int(input())\n",
    "counts= []\n",
    "for i in range(n):\n",
    "    string=input()\n",
    "    counts.append(string)\n",
    "d= Counter(counts)\n",
    "print(len(d))\n",
    "print(*list(d.values()))"
   ]
  },
  {
   "cell_type": "markdown",
   "metadata": {},
   "source": [
    "#### Collections.deque()"
   ]
  },
  {
   "cell_type": "code",
   "execution_count": null,
   "metadata": {},
   "outputs": [],
   "source": [
    "from collections import deque\n",
    "d = deque()\n",
    "n = int(input())\n",
    "for i in range(n):\n",
    "    command= input().split()\n",
    "    if command[0]== 'append':\n",
    "        d.append(command[1])\n",
    "    elif command[0] == 'appendleft':\n",
    "        d.appendleft(command[1])\n",
    "    elif command[0] == 'pop':\n",
    "        d.pop()\n",
    "    elif command[0] == 'popleft':\n",
    "        d.popleft()\n",
    "print(*list(d))"
   ]
  },
  {
   "cell_type": "markdown",
   "metadata": {},
   "source": [
    "#### Company Logo"
   ]
  },
  {
   "cell_type": "code",
   "execution_count": null,
   "metadata": {},
   "outputs": [],
   "source": [
    "from collections import Counter\n",
    "from collections import defaultdict\n",
    "if __name__ == '__main__':\n",
    "    s = input()\n",
    "\n",
    "counts = Counter(list(s))\n",
    "candidates= defaultdict(list)\n",
    "out=[]\n",
    "for key,value in counts.items():\n",
    "    if value >= sorted(counts.values(),reverse=True)[2]:\n",
    "        candidates[value].append(key)\n",
    "for c in sorted(candidates,reverse=True):\n",
    "    out+=sorted(candidates[c])\n",
    "for e in out[:3]:\n",
    "    print(e, counts[e])"
   ]
  },
  {
   "cell_type": "markdown",
   "metadata": {},
   "source": [
    "#### Piling Up!"
   ]
  },
  {
   "cell_type": "code",
   "execution_count": null,
   "metadata": {},
   "outputs": [],
   "source": [
    "test=int(input())\n",
    "\n",
    "def pile_up(cubes_len) : \n",
    "    while len(cubes_len)>1 and cubes_len[0]>=cubes_len[1]: #possible movements to the right\n",
    "            cubes_len.pop(0)\n",
    "    while len(cubes_len)>1 and cubes_len[-1]>=cubes_len[-2]: #possible movements to the left\n",
    "            cubes_len.pop(-1)\n",
    "\n",
    "    if len(cubes_len)>1:\n",
    "        return \"No\"\n",
    "    else:\n",
    "        return \"Yes\"\n",
    "\n",
    "for n in range(test):\n",
    "    n_cubes = int(input())\n",
    "    cubes_len = list(map(int,input().split()))\n",
    "    print(pile_up(cubes_len))\n"
   ]
  },
  {
   "cell_type": "markdown",
   "metadata": {},
   "source": [
    "----------------------------------"
   ]
  },
  {
   "cell_type": "markdown",
   "metadata": {},
   "source": [
    "## Date and time"
   ]
  },
  {
   "cell_type": "markdown",
   "metadata": {},
   "source": [
    "#### Time Delta"
   ]
  },
  {
   "cell_type": "code",
   "execution_count": null,
   "metadata": {},
   "outputs": [],
   "source": [
    "def time_delta(t1, t2):\n",
    "    T1=datetime.strptime(t1,'%a %d %b %Y %H:%M:%S %z')\n",
    "    T2=datetime.strptime(t2,'%a %d %b %Y %H:%M:%S %z')\n",
    "    return int(abs((T1-T2).total_seconds()))\n",
    "\n",
    "\n",
    "if __name__ == '__main__':\n",
    "    n = int(input())\n",
    "    for t_itr in range(n):\n",
    "        t1 = input()\n",
    "        t2 = input()\n",
    "        print(time_delta(t1, t2))"
   ]
  },
  {
   "cell_type": "markdown",
   "metadata": {},
   "source": [
    "#### Calendar Module"
   ]
  },
  {
   "cell_type": "code",
   "execution_count": null,
   "metadata": {},
   "outputs": [],
   "source": [
    "def findDay(date): \n",
    "    month, day, year = (int(i) for i in date.split(' ')) \n",
    "    dayNumber = calendar.weekday(year, month, day) \n",
    "    days =[\"MONDAY\", \"TUESDAY\", \"WEDNESDAY\", \"THURSDAY\", \"FRIDAY\", \"SATURDAY\", \"SUNDAY\"] \n",
    "    return (days[dayNumber]) \n",
    "  \n",
    "print(findDay(input()))\n"
   ]
  },
  {
   "cell_type": "markdown",
   "metadata": {},
   "source": [
    "----------------------------------------------"
   ]
  },
  {
   "cell_type": "markdown",
   "metadata": {},
   "source": [
    "## Exceptions"
   ]
  },
  {
   "cell_type": "code",
   "execution_count": null,
   "metadata": {},
   "outputs": [],
   "source": [
    "for i in range(int(input())):\n",
    "        try:\n",
    "            a,b=input().split()\n",
    "            print(int(a)//int(b))\n",
    "        except Exception as e:\n",
    "            print(\"Error Code:\",e)"
   ]
  },
  {
   "cell_type": "markdown",
   "metadata": {},
   "source": [
    "## Built-ins"
   ]
  },
  {
   "cell_type": "markdown",
   "metadata": {},
   "source": [
    "#### Zipped!"
   ]
  },
  {
   "cell_type": "code",
   "execution_count": null,
   "metadata": {},
   "outputs": [],
   "source": [
    "St, Su = map(int, input().split()) \n",
    "for i in zip(*[map(float, input().split()) for _ in range(Su)]): \n",
    "    print(sum(i)/len(i))"
   ]
  },
  {
   "cell_type": "markdown",
   "metadata": {},
   "source": [
    "#### Athlete sort"
   ]
  },
  {
   "cell_type": "code",
   "execution_count": null,
   "metadata": {},
   "outputs": [],
   "source": [
    "if __name__ == '__main__':\n",
    "    nm = input().split()\n",
    "\n",
    "    n = int(nm[0])\n",
    "\n",
    "    m = int(nm[1])\n",
    "\n",
    "    arr = []\n",
    "\n",
    "    for _ in range(n):\n",
    "        arr.append(list(map(int, input().rstrip().split())))\n",
    "\n",
    "    k = int(input())\n",
    "\n",
    "d={}\n",
    "for ath_i in range(n):\n",
    "    d[ath_i]=arr[ath_i][k]\n",
    "\n",
    "od={k: v for k, v in sorted(d.items(), key=lambda item: item[1])}    \n",
    "for e in od:\n",
    "    print(*arr[e])"
   ]
  },
  {
   "cell_type": "markdown",
   "metadata": {},
   "source": [
    "#### ginortS"
   ]
  },
  {
   "cell_type": "code",
   "execution_count": null,
   "metadata": {},
   "outputs": [],
   "source": [
    "s=input()\n",
    "low=[]\n",
    "up= []\n",
    "ev=[]\n",
    "od=[]\n",
    "for e in s:\n",
    "    if e.islower():\n",
    "        low+=e\n",
    "    elif e.isupper():\n",
    "        up+=e\n",
    "    elif e.isdigit() and (float(e)%2.0) !=0:\n",
    "        od+=e\n",
    "    elif e.isdigit() and (float(e)%2.0) ==0:\n",
    "        ev+=e\n",
    "    else:\n",
    "        continue\n",
    "print(''.join(sorted(low)+sorted(up)+sorted(od)+sorted(ev)))\n"
   ]
  },
  {
   "cell_type": "markdown",
   "metadata": {},
   "source": [
    "-------------------------------------------"
   ]
  },
  {
   "cell_type": "markdown",
   "metadata": {},
   "source": [
    "## Python Functionals"
   ]
  },
  {
   "cell_type": "markdown",
   "metadata": {},
   "source": [
    "#### Map and Lambda Function"
   ]
  },
  {
   "cell_type": "code",
   "execution_count": null,
   "metadata": {},
   "outputs": [],
   "source": [
    "cube = lambda x: x**3\n",
    "\n",
    "def fibonacci(n):\n",
    "    a, b = 0, 1\n",
    "    lst = [0]\n",
    "    for i in range(1,n):\n",
    "        lst.append(b)\n",
    "        a, b = b, a+b\n",
    "    return lst\n",
    "\n",
    "if __name__ == '__main__':\n",
    "    n = int(input())\n",
    "    print(list(map(cube, fibonacci(n))))"
   ]
  },
  {
   "cell_type": "markdown",
   "metadata": {},
   "source": [
    "## Regex and parsing challenges"
   ]
  },
  {
   "cell_type": "markdown",
   "metadata": {},
   "source": [
    "#### Group(), Groups() & Groupdict()"
   ]
  },
  {
   "cell_type": "code",
   "execution_count": null,
   "metadata": {},
   "outputs": [],
   "source": [
    "x = re.search(r'([a-zA-Z0-9])\\1+', input().strip())\n",
    "if x:\n",
    "    print(*list(x.groups(1)))\n",
    "else:\n",
    "    print(-1)"
   ]
  },
  {
   "cell_type": "markdown",
   "metadata": {},
   "source": [
    "#### Detect Floating Point Number"
   ]
  },
  {
   "cell_type": "code",
   "execution_count": null,
   "metadata": {},
   "outputs": [],
   "source": [
    "n=input()\n",
    "for i in range(int(n)):\n",
    "    s= str(input())\n",
    "    print(bool(re.match(\"^[\\+-]?\\d*\\.\\d+$\", s)))"
   ]
  },
  {
   "cell_type": "markdown",
   "metadata": {},
   "source": [
    "#### Re.split()"
   ]
  },
  {
   "cell_type": "code",
   "execution_count": null,
   "metadata": {},
   "outputs": [],
   "source": [
    "regex_pattern=  r\"[.,]+\"\n",
    "import re\n",
    "print(\"\\n\".join(re.split(regex_pattern, input())))"
   ]
  },
  {
   "cell_type": "markdown",
   "metadata": {},
   "source": [
    "#### Re.findall() & Re.finditer()"
   ]
  },
  {
   "cell_type": "code",
   "execution_count": null,
   "metadata": {},
   "outputs": [],
   "source": [
    "reg = '(?<=[bcdfghjklmnpqrstvwxyz])([aeiou]{2,})[bcdfghjklmnpqrstvwxyz]'\n",
    "\n",
    "match = re.findall(reg, input(), re.IGNORECASE)\n",
    "if match:\n",
    "    print(*match, sep='\\n')\n",
    "else:\n",
    "    print('-1')"
   ]
  },
  {
   "cell_type": "markdown",
   "metadata": {},
   "source": [
    "#### Re.start() & Re.end()"
   ]
  },
  {
   "cell_type": "code",
   "execution_count": null,
   "metadata": {},
   "outputs": [],
   "source": [
    "string = input()\n",
    "pattern = input()\n",
    "for i in enumerate(string):\n",
    "    pos=string[i[0]:]\n",
    "    if re.match(pattern,pos):\n",
    "        print((i[0],i[0]+len(pattern)-1))\n",
    "if re.search(pattern, string)==None:\n",
    "    print((-1,-1))  "
   ]
  },
  {
   "cell_type": "markdown",
   "metadata": {},
   "source": [
    "#### Regex Substitution"
   ]
  },
  {
   "cell_type": "code",
   "execution_count": null,
   "metadata": {},
   "outputs": [],
   "source": [
    "for l in range(int(input())):\n",
    "    line = input()\n",
    "    while ' && ' in line or ' || ' in line:\n",
    "        line = line.replace(\" && \", \" and \")\n",
    "        line = line.replace(\" || \", \" or \")\n",
    "    print(line)"
   ]
  },
  {
   "cell_type": "markdown",
   "metadata": {},
   "source": [
    "#### Validating Roman Numerals"
   ]
  },
  {
   "cell_type": "code",
   "execution_count": null,
   "metadata": {},
   "outputs": [],
   "source": [
    "regex_pattern = r\"M{,3}(CM|CD|D?C{,3})(XC|XL|L?X{,3})(IX|IV|V?I{,3})$\"  \n",
    "print(str(bool(re.match(regex_pattern, input()))))"
   ]
  },
  {
   "cell_type": "markdown",
   "metadata": {},
   "source": [
    "#### Validating phone numbers"
   ]
  },
  {
   "cell_type": "code",
   "execution_count": null,
   "metadata": {},
   "outputs": [],
   "source": [
    "n= int(input())\n",
    "for i in range(n):\n",
    "    p_num=str(input())\n",
    "    if re.search(r'[789]\\d{9}$',p_num):\n",
    "        print('YES')\n",
    "    else:\n",
    "        print('NO')"
   ]
  },
  {
   "cell_type": "markdown",
   "metadata": {},
   "source": [
    "#### Validating and parsing email addresses"
   ]
  },
  {
   "cell_type": "code",
   "execution_count": null,
   "metadata": {},
   "outputs": [],
   "source": [
    "n=int(input())\n",
    "for i in range(n):\n",
    "    name,email= re.split(' ',input())\n",
    "    if re.match(r'<[a-zA-Z][a-zA-Z0-9._-]+@[a-zA-Z]+\\.[a-zA-Z]{1,3}>', email):\n",
    "        print (name,email)"
   ]
  },
  {
   "cell_type": "markdown",
   "metadata": {},
   "source": [
    "#### HEX color code"
   ]
  },
  {
   "cell_type": "code",
   "execution_count": null,
   "metadata": {},
   "outputs": [],
   "source": [
    "n = int(input())\n",
    "for i in range(n):\n",
    "    line = input().strip()\n",
    "    c_codes = [valid for valid in re.findall(r\".(#[0-9A-Fa-f]{6}|#[0-9A-Fa-f]{3})\", line)]\n",
    "    if len(c_codes)!=0:\n",
    "        print(*c_codes,sep='\\n')\n"
   ]
  },
  {
   "cell_type": "markdown",
   "metadata": {},
   "source": [
    "#### HTML Parser 1"
   ]
  },
  {
   "cell_type": "code",
   "execution_count": null,
   "metadata": {},
   "outputs": [],
   "source": [
    "class CustomHTMLParser(HTMLParser):\n",
    "    def handle_starttag(self, tag, attrs):\n",
    "        print(\"Start :\", tag)\n",
    "        self.attr_print(attrs)\n",
    "    def handle_endtag(self, tag):\n",
    "        print(\"End   :\", tag)\n",
    "    def handle_startendtag(self, tag, attrs):\n",
    "        print(\"Empty :\", tag)\n",
    "        self.attr_print(attrs)\n",
    "    def attr_print(self, attrs):\n",
    "        if attrs:\n",
    "            print(*[\"-> \" + a[0] + \" > \" + str(a[1]) for a in attrs],sep='\\n')\n",
    "\n",
    "if __name__ == \"__main__\":\n",
    "    n = int(input())\n",
    "    htmlParser = CustomHTMLParser()\n",
    "    html = \"\"\n",
    "    for _ in range(n):\n",
    "        html += input().strip()\n",
    "    htmlParser.feed(html)    "
   ]
  },
  {
   "cell_type": "markdown",
   "metadata": {},
   "source": [
    "#### HTML Parser 2"
   ]
  },
  {
   "cell_type": "code",
   "execution_count": null,
   "metadata": {},
   "outputs": [],
   "source": [
    "class MyHTMLParser(HTMLParser):\n",
    "    \n",
    "    def handle_comment(self, data):\n",
    "        if '\\n' in data:\n",
    "            print('>>> Multi-line Comment')\n",
    "        else:\n",
    "            print('>>> Single-line Comment')\n",
    "        print(data)\n",
    "    def handle_data(self, data):\n",
    "        if data.strip(): \n",
    "            print('>>> Data')\n",
    "            print(data)\n",
    "\n",
    "n=int(input())\n",
    "html = \"\"       \n",
    "for _ in range(n):\n",
    "    html += input().rstrip()\n",
    "    html += '\\n'\n",
    "    \n",
    "parser = MyHTMLParser()\n",
    "parser.feed(html)\n",
    "parser.close()\n"
   ]
  },
  {
   "cell_type": "markdown",
   "metadata": {},
   "source": [
    "#### Detect HTML tags, attributes and attribute values"
   ]
  },
  {
   "cell_type": "code",
   "execution_count": null,
   "metadata": {},
   "outputs": [],
   "source": [
    "n=int(input)\n",
    "class MyHTMLParser(HTMLParser):\n",
    "    def handle_starttag(self, tag, attrs):\n",
    "        print(tag)\n",
    "        for i in attrs:\n",
    "            print(\"-> \"+i[0]+\" > \"+i[1])\n",
    "\n",
    "out=\"\"\n",
    "for i in range(n):\n",
    "    out+=input().rstrip()+\"\\n\"\n",
    "\n",
    "parser = MyHTMLParser()\n",
    "parser.feed(out)\n",
    "parser.close()"
   ]
  },
  {
   "cell_type": "markdown",
   "metadata": {},
   "source": [
    "#### Validating UID"
   ]
  },
  {
   "cell_type": "code",
   "execution_count": null,
   "metadata": {},
   "outputs": [],
   "source": [
    "reg = re.compile(r\"^(?!.*(.).*\\1)(?=(?:(.*[A-Z]){2,}))(?=(?:(.*\\d){3,}))[a-zA-Z0-9]{10}$\", re.VERBOSE) #no rep,at list two capitals,at list three digits,exactl ten alphanumchars\n",
    "n= int(input())\n",
    "for i in range(n):\n",
    "    line=input()\n",
    "    if re.match(reg, line):\n",
    "        print('Valid')  \n",
    "    else:\n",
    "        print('Invalid')"
   ]
  },
  {
   "cell_type": "markdown",
   "metadata": {},
   "source": [
    "#### Validating credit card numbers"
   ]
  },
  {
   "cell_type": "code",
   "execution_count": null,
   "metadata": {},
   "outputs": [],
   "source": [
    "n=int(input())\n",
    "for _ in range(n):\n",
    "    line=input()\n",
    "    res='Invalid'\n",
    "    if '-' not in line:\n",
    "        line='-'.join([line[i:i+4] for i in range(0, len(line), 4)])\n",
    "    if re.match(r'^[456](\\d{3})-\\d{4}-\\d{4}-\\d{4}$',line) and not re.search(r\"([\\d])\\1\\1\\1\",line):\n",
    "        res=\"Valid\"\n",
    "    print(res)\n",
    "    \n",
    "#test failed for 5133-3367-8912-3456 being considered invalid even though it matched regex"
   ]
  },
  {
   "cell_type": "markdown",
   "metadata": {},
   "source": [
    "#### Validting postal codes"
   ]
  },
  {
   "cell_type": "code",
   "execution_count": null,
   "metadata": {},
   "outputs": [],
   "source": [
    "regex_integer_in_range = r\"^[1-9][0-9]{5}$\"\n",
    "regex_alternating_repetitive_digit_pair = r\"(\\d)(?=.\\1)\" #matches for anything+itself\n",
    "\n",
    "P = input()\n",
    "\n",
    "print (bool(re.match(regex_integer_in_range, P)) \n",
    "and len(re.findall(regex_alternating_repetitive_digit_pair, P)) < 2)"
   ]
  },
  {
   "cell_type": "markdown",
   "metadata": {},
   "source": [
    "#### Matrix script"
   ]
  },
  {
   "cell_type": "code",
   "execution_count": null,
   "metadata": {},
   "outputs": [],
   "source": [
    "n, m = map(int,input().rstrip().split())\n",
    "matrix = [ '' for _ in range(m) ]\n",
    "for _ in range(n):\n",
    "    line = list(input())\n",
    "    for i in range(len(line)):\n",
    "        matrix[i]+=line[i]\n",
    "\n",
    "print(re.sub(r'([A-Za-z0-9])[!@#$%&\\s]+(?=[A-Za-z0-9])',r'\\1 ',''.join(matrix)))"
   ]
  },
  {
   "cell_type": "markdown",
   "metadata": {},
   "source": [
    "----------------------"
   ]
  },
  {
   "cell_type": "markdown",
   "metadata": {},
   "source": [
    "## XML"
   ]
  },
  {
   "cell_type": "markdown",
   "metadata": {},
   "source": [
    "#### XML 1 - Find the score"
   ]
  },
  {
   "cell_type": "code",
   "execution_count": null,
   "metadata": {},
   "outputs": [],
   "source": [
    "def get_attr_number(node):\n",
    "    s=sum(len(i.attrib) for i in node.iter())\n",
    "    return s"
   ]
  },
  {
   "cell_type": "markdown",
   "metadata": {},
   "source": [
    "#### XML 2 - Find the maximum Depth"
   ]
  },
  {
   "cell_type": "code",
   "execution_count": null,
   "metadata": {},
   "outputs": [],
   "source": [
    "maxdepth = 0\n",
    "def depth(elem, level):\n",
    "    global maxdepth\n",
    "    if level >= maxdepth:\n",
    "        maxdepth = level\n",
    "    for child in elem:\n",
    "        depth(child, level)\n",
    "        level += 1\n",
    "\n",
    "if __name__ == '__main__':\n",
    "    n = int(input())\n",
    "    xml = \"\"\n",
    "    for i in range(n):\n",
    "        xml =  xml + input() + \"\\n\"\n",
    "    tree = etree.ElementTree(etree.fromstring(xml))\n",
    "    depth(tree.getroot(), -1)\n",
    "    print(maxdepth)"
   ]
  },
  {
   "cell_type": "markdown",
   "metadata": {},
   "source": [
    "--------------------------"
   ]
  },
  {
   "cell_type": "markdown",
   "metadata": {},
   "source": [
    "## Closures and decorations"
   ]
  },
  {
   "cell_type": "markdown",
   "metadata": {},
   "source": [
    "#### Standardize Mobile Number Using Decorators"
   ]
  },
  {
   "cell_type": "code",
   "execution_count": null,
   "metadata": {},
   "outputs": [],
   "source": [
    "def wrapper(f):\n",
    "    def fun(l):\n",
    "        prefix = [' '.join(['+91',str(n[-10: -5]),str(n[-5:])]) for n in l]\n",
    "        print (*sorted(prefix),sep='\\n')\n",
    "    return fun"
   ]
  },
  {
   "cell_type": "markdown",
   "metadata": {},
   "source": [
    "#### Decorators 2 - Name directory"
   ]
  },
  {
   "cell_type": "code",
   "execution_count": null,
   "metadata": {},
   "outputs": [],
   "source": [
    "import operator\n",
    "\n",
    "def person_lister(f):\n",
    "    def inner(people):\n",
    "        for person in sorted(people, key=lambda age: int(age[2])):\n",
    "            yield f(person)\n",
    "    return inner\n",
    "\n",
    "@person_lister\n",
    "def name_format(person):\n",
    "    return (\"Mr. \" if person[3] == \"M\" else \"Ms. \") + person[0] + \" \" + person[1]\n",
    "\n",
    "if __name__ == '__main__':\n",
    "    people = [input().split() for i in range(int(input()))]\n",
    "    print(*name_format(people), sep='\\n')\n"
   ]
  },
  {
   "cell_type": "markdown",
   "metadata": {},
   "source": [
    "------------------------------------"
   ]
  },
  {
   "cell_type": "markdown",
   "metadata": {},
   "source": [
    "## Numpy"
   ]
  },
  {
   "cell_type": "markdown",
   "metadata": {},
   "source": [
    "#### Array mathematics"
   ]
  },
  {
   "cell_type": "code",
   "execution_count": null,
   "metadata": {},
   "outputs": [],
   "source": [
    "import numpy as np\n",
    "N,M = map(int,input().split())\n",
    "A=np.zeros((N,M),int)\n",
    "B=np.zeros((N,M),int)\n",
    "for i in range(N):\n",
    "    A[i]=np.array(input().split(),int)\n",
    "for i in range(N):\n",
    "    B[i]=np.array(input().split(),int)  \n",
    "\n",
    "print(*[A+B, A-B, A*B, np.array(A/B,int), A%B, A**B],sep='\\n')"
   ]
  },
  {
   "cell_type": "markdown",
   "metadata": {},
   "source": [
    "#### Arrays"
   ]
  },
  {
   "cell_type": "code",
   "execution_count": null,
   "metadata": {},
   "outputs": [],
   "source": [
    "def arrays(arr):\n",
    "    return(numpy.array(arr[::-1], float))\n",
    "\n",
    "arr = input().strip().split(' ')\n",
    "result = arrays(arr)\n",
    "print(result)"
   ]
  },
  {
   "cell_type": "markdown",
   "metadata": {},
   "source": [
    "#### Shape and reshape"
   ]
  },
  {
   "cell_type": "code",
   "execution_count": null,
   "metadata": {},
   "outputs": [],
   "source": [
    "import numpy as np\n",
    "l=list(map(int,input().split()))\n",
    "\n",
    "my_array= np.array(l)\n",
    "print (np.reshape(my_array,(3,3)))"
   ]
  },
  {
   "cell_type": "markdown",
   "metadata": {},
   "source": [
    "#### Transpose and Flatten"
   ]
  },
  {
   "cell_type": "code",
   "execution_count": null,
   "metadata": {},
   "outputs": [],
   "source": [
    "import numpy as np\n",
    "n,m=input().split(' ')\n",
    "L=[]\n",
    "for l in range(int(n)):\n",
    "    L.append(list(map(int,input().split(' '))))\n",
    "my_array=np.array(L)\n",
    "print(my_array.transpose())\n",
    "print (my_array.flatten())"
   ]
  },
  {
   "cell_type": "markdown",
   "metadata": {},
   "source": [
    "#### Concatenate"
   ]
  },
  {
   "cell_type": "code",
   "execution_count": null,
   "metadata": {},
   "outputs": [],
   "source": [
    "import numpy as np\n",
    "n,m,p=map(int,input().split())\n",
    "l=[]\n",
    "for i in range(n+m):\n",
    "    l.append(input().split())\n",
    "print(np.array(l,int))"
   ]
  },
  {
   "cell_type": "markdown",
   "metadata": {},
   "source": [
    "#### Zeros and Ones"
   ]
  },
  {
   "cell_type": "code",
   "execution_count": null,
   "metadata": {},
   "outputs": [],
   "source": [
    "import numpy as np\n",
    "n= tuple(map(int, input().split(' ')))\n",
    "print (np.zeros(n,dtype = np.int))\n",
    "print (np.ones(n,dtype = np.int))"
   ]
  },
  {
   "cell_type": "markdown",
   "metadata": {},
   "source": [
    "#### Eye and Identity"
   ]
  },
  {
   "cell_type": "code",
   "execution_count": null,
   "metadata": {},
   "outputs": [],
   "source": [
    "dim=[]\n",
    "for _ in map(int,input().split()):\n",
    "    dim.append(_)\n",
    "numpy.set_printoptions(sign=' ') \n",
    "print(numpy.eye(dim[0],dim[1]))"
   ]
  },
  {
   "cell_type": "markdown",
   "metadata": {},
   "source": [
    "#### Floor, ceil and rint"
   ]
  },
  {
   "cell_type": "code",
   "execution_count": null,
   "metadata": {},
   "outputs": [],
   "source": [
    "import numpy as np\n",
    "np.set_printoptions(legacy='1.13') #bug in output\n",
    "arr = np.array(input().split(), float)\n",
    "for f in [np.floor, np.ceil, np.rint]:\n",
    "    print(*[f(arr)], sep='\\n')"
   ]
  },
  {
   "cell_type": "markdown",
   "metadata": {},
   "source": [
    "#### Sum and prod"
   ]
  },
  {
   "cell_type": "code",
   "execution_count": null,
   "metadata": {},
   "outputs": [],
   "source": [
    "import numpy as np\n",
    "n,m=input().split(' ')\n",
    "L=[]\n",
    "for l in range(int(n)):\n",
    "    L.append(list(map(int,input().split(' '))))\n",
    "my_array=np.array(L)\n",
    "print (np.prod(np.sum(my_array, axis = 0)))"
   ]
  },
  {
   "cell_type": "markdown",
   "metadata": {},
   "source": [
    "#### Min and max"
   ]
  },
  {
   "cell_type": "code",
   "execution_count": null,
   "metadata": {},
   "outputs": [],
   "source": [
    "N, M = map(int, input().split())\n",
    "arr = numpy.array([input().split() for _ in range(N)],int)\n",
    "np_min = numpy.min(arr, axis=1)\n",
    "print(numpy.max(np_min, axis=0))"
   ]
  },
  {
   "cell_type": "markdown",
   "metadata": {},
   "source": [
    "#### Mean. var, and std"
   ]
  },
  {
   "cell_type": "code",
   "execution_count": null,
   "metadata": {},
   "outputs": [],
   "source": [
    "import numpy as np\n",
    "np.set_printoptions(legacy='1.13') #bug in output\n",
    "n,m=input().split(' ')\n",
    "L=[]\n",
    "for l in range(int(n)):\n",
    "    L.append(list(map(int,input().split(' '))))\n",
    "my_array=np.array(L)\n",
    "print (np.mean(my_array, axis = 1))\n",
    "print (np.var(my_array, axis = 0))\n",
    "print (np.std(my_array, axis=None))"
   ]
  },
  {
   "cell_type": "markdown",
   "metadata": {},
   "source": [
    "#### Dot and crosses"
   ]
  },
  {
   "cell_type": "code",
   "execution_count": null,
   "metadata": {},
   "outputs": [],
   "source": [
    "import numpy as np\n",
    "n= int(input())\n",
    "A=[]\n",
    "B=[]\n",
    "for _ in range(n):\n",
    "    A.append(list(map(int,input().split())))\n",
    "for _ in range(n):\n",
    "    B.append(list(map(int,input().split())))\n",
    "print (np.dot(A,B))"
   ]
  },
  {
   "cell_type": "markdown",
   "metadata": {},
   "source": [
    "#### Inner and outer"
   ]
  },
  {
   "cell_type": "code",
   "execution_count": null,
   "metadata": {},
   "outputs": [],
   "source": [
    "import numpy as np\n",
    "A = np.array(input().split(), int)\n",
    "B = np.array(input().split(), int)\n",
    "print(*[np.inner(A,B), np.outer(A,B)], sep='\\n')"
   ]
  },
  {
   "cell_type": "markdown",
   "metadata": {},
   "source": [
    "#### Polynomials"
   ]
  },
  {
   "cell_type": "code",
   "execution_count": null,
   "metadata": {},
   "outputs": [],
   "source": [
    "import numpy as np\n",
    "P=list(map(float,input().split()))\n",
    "x=int(input())\n",
    "print (np.polyval(P, x))"
   ]
  },
  {
   "cell_type": "markdown",
   "metadata": {},
   "source": [
    "#### Linear algebra"
   ]
  },
  {
   "cell_type": "code",
   "execution_count": null,
   "metadata": {},
   "outputs": [],
   "source": [
    "numpy.set_printoptions(legacy='1.13') #bug in output\n",
    "dim=int(input())\n",
    "arr=numpy.array([input().split() for _ in range(dim)],float)\n",
    "print(numpy.linalg.det(arr))"
   ]
  },
  {
   "cell_type": "markdown",
   "metadata": {},
   "source": [
    "-----------------------"
   ]
  },
  {
   "cell_type": "markdown",
   "metadata": {},
   "source": [
    "------------------------------------------------------\n",
    "# Problem 2"
   ]
  },
  {
   "cell_type": "markdown",
   "metadata": {},
   "source": [
    "#### Birthday cake candles"
   ]
  },
  {
   "cell_type": "code",
   "execution_count": null,
   "metadata": {},
   "outputs": [],
   "source": [
    "def birthdayCakeCandles(candles):\n",
    "    return (int((candles).count(max(candles))))\n",
    "\n",
    "if __name__ == '__main__':\n",
    "    fptr = open(os.environ['OUTPUT_PATH'], 'w')\n",
    "\n",
    "    candles_count = int(input().strip())\n",
    "\n",
    "    candles = list(map(int, input().rstrip().split()))\n",
    "\n",
    "    result = birthdayCakeCandles(candles)\n",
    "\n",
    "    fptr.write(str(result) + '\\n')\n",
    "\n",
    "    fptr.close()\n"
   ]
  },
  {
   "cell_type": "markdown",
   "metadata": {},
   "source": [
    "#### Kangaroo"
   ]
  },
  {
   "cell_type": "code",
   "execution_count": null,
   "metadata": {},
   "outputs": [],
   "source": [
    "def kangaroo(x1, v1, x2, v2):\n",
    "    if (x2 - x1) * (v2 - v1) < 0 and (x2 - x1) % (v2 - v1) == 0: #v1 must be greater than v1 since x2 > x1 (given) and ratio must be integer\n",
    "        return \"YES\"\n",
    "    else:\n",
    "        return \"NO\"\n",
    "\n",
    "\n",
    "if __name__ == '__main__':\n",
    "    fptr = open(os.environ['OUTPUT_PATH'], 'w')\n",
    "\n",
    "    x1V1X2V2 = input().split()\n",
    "\n",
    "    x1 = int(x1V1X2V2[0])\n",
    "\n",
    "    v1 = int(x1V1X2V2[1])\n",
    "\n",
    "    x2 = int(x1V1X2V2[2])\n",
    "\n",
    "    v2 = int(x1V1X2V2[3])\n",
    "\n",
    "    result = kangaroo(x1, v1, x2, v2)\n",
    "\n",
    "    fptr.write(result + '\\n')\n",
    "\n",
    "    fptr.close()"
   ]
  },
  {
   "cell_type": "markdown",
   "metadata": {},
   "source": [
    "#### Strange advertising"
   ]
  },
  {
   "cell_type": "code",
   "execution_count": null,
   "metadata": {},
   "outputs": [],
   "source": [
    "def viralAdvertising(n):\n",
    "    tot=2\n",
    "    new_likes=2\n",
    "    for _ in range(n-1):\n",
    "        new_likes = (new_likes*3)//2\n",
    "        tot+=new_likes\n",
    "    return tot\n",
    "\n",
    "\n",
    "if __name__ == '__main__':\n",
    "    fptr = open(os.environ['OUTPUT_PATH'], 'w')\n",
    "\n",
    "    n = int(input())\n",
    "\n",
    "    result = viralAdvertising(n)\n",
    "\n",
    "    fptr.write(str(result) + '\\n')\n",
    "\n",
    "    fptr.close()"
   ]
  },
  {
   "cell_type": "markdown",
   "metadata": {},
   "source": [
    "#### Recursive digit sum"
   ]
  },
  {
   "cell_type": "code",
   "execution_count": null,
   "metadata": {},
   "outputs": [],
   "source": [
    "def superDigit(n,k):\n",
    "    sum_n=sum(map(int,list(str(n))))\n",
    "    sum_nk=(sum_n)*k\n",
    "    if sum_nk < 10:\n",
    "        return sum_nk\n",
    "    else: \n",
    "        return superDigit(sum_nk,1)\n",
    "    \n",
    "if __name__ == '__main__':\n",
    "    fptr = open(os.environ['OUTPUT_PATH'], 'w')\n",
    "    nk = input().split()\n",
    "    n = int(nk[0])\n",
    "    k = int(nk[1])\n",
    "    result = superDigit(n,k)\n",
    "    fptr.write(str(result) + '\\n')\n",
    "    fptr.close()"
   ]
  },
  {
   "cell_type": "markdown",
   "metadata": {},
   "source": [
    "#### Insertion sort 1"
   ]
  },
  {
   "cell_type": "code",
   "execution_count": null,
   "metadata": {},
   "outputs": [],
   "source": [
    "def insertionSort1(n, arr):\n",
    "    for e in reversed((range(1,n))):\n",
    "        value=arr[e]\n",
    "        while value<arr[e-1] and e>0: \n",
    "            prev=arr[e-1]\n",
    "            arr.remove(arr[e])\n",
    "            arr.insert(e,prev)\n",
    "            e-=1\n",
    "            print(*arr)\n",
    "        arr.remove(arr[e])\n",
    "        arr.insert(e,value)\n",
    "    print(*arr)              \n",
    "\n",
    "if __name__ == '__main__':\n",
    "    n = int(input())\n",
    "\n",
    "    arr = list(map(int, input().rstrip().split()))\n",
    " \n",
    "    insertionSort1(n, arr)"
   ]
  },
  {
   "cell_type": "markdown",
   "metadata": {},
   "source": [
    "#### Insertion sort 2"
   ]
  },
  {
   "cell_type": "code",
   "execution_count": null,
   "metadata": {},
   "outputs": [],
   "source": [
    "def insertionSort2(n, arr):\n",
    "    for e in range(1,n):\n",
    "        while arr[e]<arr[e-1] and e>0: \n",
    "            prev=arr[e-1]\n",
    "            arr.remove(prev)\n",
    "            arr.insert(e,prev)\n",
    "            e-=1\n",
    "        print(*arr)\n",
    "            \n",
    "\n",
    "if __name__ == '__main__':\n",
    "    n = int(input())\n",
    "\n",
    "    arr = list(map(int, input().rstrip().split()))\n",
    "\n",
    "    insertionSort2(n, arr)"
   ]
  }
 ],
 "metadata": {
  "kernelspec": {
   "display_name": "Python 3",
   "language": "python",
   "name": "python3"
  },
  "language_info": {
   "codemirror_mode": {
    "name": "ipython",
    "version": 3
   },
   "file_extension": ".py",
   "mimetype": "text/x-python",
   "name": "python",
   "nbconvert_exporter": "python",
   "pygments_lexer": "ipython3",
   "version": "3.8.3"
  }
 },
 "nbformat": 4,
 "nbformat_minor": 4
}
